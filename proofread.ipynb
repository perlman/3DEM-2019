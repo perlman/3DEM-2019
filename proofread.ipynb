{
 "cells": [
  {
   "cell_type": "markdown",
   "metadata": {},
   "source": [
    "### Build a very simple proof reading interface with Neuroglancer"
   ]
  },
  {
   "cell_type": "code",
   "execution_count": 1,
   "metadata": {},
   "outputs": [
    {
     "data": {
      "text/html": [
       "Neuroglancer link: <a href=\"http://127.0.0.1:53082/v/e3336291f36a923d22ffb153b9f9b5a3c743bf6a/\">http://127.0.0.1:53082/v/e3336291f36a923d22ffb153b9f9b5a3c743bf6a/</a>"
      ],
      "text/plain": [
       "<IPython.core.display.HTML object>"
      ]
     },
     "metadata": {},
     "output_type": "display_data"
    }
   ],
   "source": [
    "# Setup neuroglancer\n",
    "import neuroglancer\n",
    "from IPython.display import display, HTML\n",
    "\n",
    "# Uncomment the following if you intend to run from a remote server:\n",
    "# neuroglancer.set_server_bind_address('0.0.0.0')\n",
    "\n",
    "neuroglancer.set_static_content_source(url=\"https://neuroglancer-demo.appspot.com/python\")\n",
    "viewer = neuroglancer.Viewer()\n",
    "display(HTML('Neuroglancer link: <a href=\"{0}\">{0}</a>'.format(viewer.get_viewer_url())))"
   ]
  },
  {
   "cell_type": "code",
   "execution_count": 2,
   "metadata": {},
   "outputs": [],
   "source": [
    "# Create a 10x10x10 grid of unique labels\n",
    "import numpy as np\n",
    "dim = 20\n",
    "data = np.arange(dim*dim*dim, dtype=np.uint64).reshape(dim, dim, dim)"
   ]
  },
  {
   "cell_type": "code",
   "execution_count": 3,
   "metadata": {},
   "outputs": [],
   "source": [
    "# Create a new segmentation layer with our labels\n",
    "with viewer.txn() as s:\n",
    "        s.layers['labels'] = neuroglancer.SegmentationLayer(\n",
    "        source = neuroglancer.LocalVolume(data=data, voxel_size=(1, 1, 1)),\n",
    "        hideSegmentZero = False\n",
    "    )"
   ]
  },
  {
   "cell_type": "code",
   "execution_count": 4,
   "metadata": {},
   "outputs": [],
   "source": [
    "# Create an annotation layer to use for proof reading, linked to the label layer\n",
    "with viewer.txn() as s:\n",
    "    s.layers['proof'] = neuroglancer.AnnotationLayer(\n",
    "        linkedSegmentationLayer=\"labels\"\n",
    "    )"
   ]
  },
  {
   "cell_type": "code",
   "execution_count": 5,
   "metadata": {},
   "outputs": [
    {
     "name": "stdout",
     "output_type": "stream",
     "text": [
      "[{\"point\": [7.473986625671387, 7.709526538848877, 10], \"type\": \"point\", \"id\": \"6c4f6c71bfcdd96e97db606f7d31fd037b054abb\", \"segments\": [\"4147\"]}, {\"point\": [8.491974830627441, 7.624693870544434, 10], \"type\": \"point\", \"id\": \"6ffa9c76c5fe877be5ed375734c120b581cf0c39\", \"segments\": [\"4148\"]}, {\"point\": [8.44955825805664, 9.024428367614746, 10], \"type\": \"point\", \"id\": \"030f9905d278b9e6acec10609a5a9eb3768c80e9\", \"segments\": [\"4188\"]}, {\"point\": [8.619223594665527, 8.303353309631348, 10], \"type\": \"point\", \"id\": \"f7b20f762e9f1f0e64553f8a0564c3f23f23544d\", \"segments\": [\"4168\"]}]\n"
     ]
    }
   ],
   "source": [
    "# Try adding points to the proof layer:\n",
    "# Select the layer with control-click on the name and then choose the \"point\" tool.\n",
    "# Add points with control-click.\n",
    "\n",
    "# Look at which points we have...\n",
    "print(viewer.state.layers[\"proof\"].annotations)"
   ]
  },
  {
   "cell_type": "code",
   "execution_count": 6,
   "metadata": {},
   "outputs": [],
   "source": [
    "# Bind a new 'merge' function to identify the chosen labels and create a segment-group\n",
    "def merge_labels(s):\n",
    "    segments = set()\n",
    "    for segment in s.viewer_state.layers[\"proof\"].annotations:\n",
    "        if segment.segments:\n",
    "            segments.update(segment.segments)\n",
    "    with viewer.txn() as txn:\n",
    "        for segment in segments:\n",
    "            txn.layers[\"labels\"].equivalences.union(max(segments), segment)\n",
    "        txn.layers['proof'].annotations = None\n",
    "    with viewer.config_state.txn() as txn:\n",
    "        txn.status_messages['merge'] = 'Merged %s segments' % (len(segments))\n",
    "\n",
    "# viewer.actions.clear()\n",
    "viewer.actions.add('merge-labels', merge_labels)\n",
    "with viewer.config_state.txn() as s:\n",
    "    s.input_event_bindings.viewer['keym'] = 'merge-labels'"
   ]
  },
  {
   "cell_type": "code",
   "execution_count": null,
   "metadata": {},
   "outputs": [],
   "source": []
  }
 ],
 "metadata": {
  "kernelspec": {
   "display_name": "Python 3",
   "language": "python",
   "name": "python3"
  },
  "language_info": {
   "codemirror_mode": {
    "name": "ipython",
    "version": 3
   },
   "file_extension": ".py",
   "mimetype": "text/x-python",
   "name": "python",
   "nbconvert_exporter": "python",
   "pygments_lexer": "ipython3",
   "version": "3.7.3"
  }
 },
 "nbformat": 4,
 "nbformat_minor": 2
}
