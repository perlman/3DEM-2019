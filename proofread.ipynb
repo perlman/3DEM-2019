{
 "cells": [
  {
   "cell_type": "markdown",
   "metadata": {},
   "source": [
    "### Build a very simple proof reading interface with Neuroglancer"
   ]
  },
  {
   "cell_type": "code",
   "execution_count": 1,
   "metadata": {},
   "outputs": [
    {
     "data": {
      "text/html": [
       "Neuroglancer link: <a href=\"http://127.0.0.1:53834/v/3ef0f40466cbb5d585a36661b0f3a1d2e05db3d8/\">http://127.0.0.1:53834/v/3ef0f40466cbb5d585a36661b0f3a1d2e05db3d8/</a>"
      ],
      "text/plain": [
       "<IPython.core.display.HTML object>"
      ]
     },
     "metadata": {},
     "output_type": "display_data"
    }
   ],
   "source": [
    "import os\n",
    "from urllib.parse import urlparse\n",
    "import neuroglancer\n",
    "from IPython.display import display, HTML\n",
    "\n",
    "# Uncomment the following if you intend to run from a remote server:\n",
    "# neuroglancer.set_server_bind_address('0.0.0.0')\n",
    "\n",
    "neuroglancer.set_static_content_source(url=\"https://neuroglancer-demo.appspot.com/python\")\n",
    "viewer = neuroglancer.Viewer()\n",
    "\n",
    "if \"BINDER_URL\" in os.environ:\n",
    "    if \"ovh.mybinder.org\" in os.environ[\"BINDER_URL\"]:\n",
    "        binder_host = \"hub-binder.mybinder.ovh\"\n",
    "    else:\n",
    "        binder_host = \"hub.gke.mybinder.org\"\n",
    "        \n",
    "    viewer_url = \"https://{0}{1}proxy/{2}{3}\".format(\n",
    "        binder_host,\n",
    "        os.environ[\"JUPYTERHUB_SERVICE_PREFIX\"],\n",
    "        urlparse(viewer.get_viewer_url()).port,\n",
    "        urlparse(viewer.get_viewer_url()).path)\n",
    "else:\n",
    "    viewer_url = viewer.get_viewer_url()\n",
    "\n",
    "display(HTML('Neuroglancer link: <a href=\"{0}\">{0}</a>'.format(viewer_url)))"
   ]
  },
  {
   "cell_type": "code",
   "execution_count": 2,
   "metadata": {},
   "outputs": [],
   "source": [
    "# Create a 10x10x10 grid of unique labels\n",
    "import numpy as np\n",
    "dim = 20\n",
    "data = np.arange(dim*dim*dim, dtype=np.uint64).reshape(dim, dim, dim)\n",
    "# Make the labels 4x4x4 (for better meshes :-) [without scipy.ndimage.zoom]\n",
    "data = np.repeat(np.repeat(np.repeat(data, 4, 0), 4, 1), 4, 2) "
   ]
  },
  {
   "cell_type": "code",
   "execution_count": 3,
   "metadata": {},
   "outputs": [],
   "source": [
    "# Create a new segmentation layer with our labels\n",
    "with viewer.txn() as s:\n",
    "        s.layers['labels'] = neuroglancer.SegmentationLayer(\n",
    "            source = neuroglancer.LocalVolume(\n",
    "                data=data, voxel_size=(1, 1, 1),\n",
    "                mesh_options={'max_quadrics_error':-1}\n",
    "            ),\n",
    "            hideSegmentZero = False\n",
    "    )"
   ]
  },
  {
   "cell_type": "code",
   "execution_count": 4,
   "metadata": {},
   "outputs": [],
   "source": [
    "# Create an annotation layer to use for proof reading, linked to the label layer\n",
    "with viewer.txn() as s:\n",
    "    s.layers['proof'] = neuroglancer.AnnotationLayer(\n",
    "        linkedSegmentationLayer=\"labels\"\n",
    "    )"
   ]
  },
  {
   "cell_type": "code",
   "execution_count": 5,
   "metadata": {},
   "outputs": [
    {
     "name": "stdout",
     "output_type": "stream",
     "text": [
      "[{\"point\": [22.741104125976562, 27.827922821044922, 39.99999237060547], \"type\": \"point\", \"id\": \"1052326476fa4033150ac59f5a2b4a1f546c69a2\", \"segments\": [\"3725\"]}, {\"point\": [33.8231315612793, 40.36333084106445, 39.99999237060547], \"type\": \"point\", \"id\": \"42df7b3dc49f45ba22f3cad24377e6c57e22b8db\", \"segments\": [\"3808\"]}, {\"point\": [56.89554977416992, 62.3457145690918, 39.99999237060547], \"type\": \"point\", \"id\": \"08d22a62da6bccddc5575ee72a0d5b0dd4977aec\", \"segments\": [\"3914\"]}, {\"point\": [24.376157760620117, 65.97916412353516, 39.99999237060547], \"type\": \"point\", \"id\": \"c28e9e9a43b0cf067bfc57f7ffcb458944530342\", \"segments\": [\"3926\"]}]\n"
     ]
    }
   ],
   "source": [
    "# Try adding points to the proof layer:\n",
    "# Select the layer with control-click on the name and then choose the \"point\" tool.\n",
    "# Add points with control-click.\n",
    "\n",
    "# Look at which points we have...\n",
    "print(viewer.state.layers[\"proof\"].annotations)"
   ]
  },
  {
   "cell_type": "code",
   "execution_count": 6,
   "metadata": {},
   "outputs": [],
   "source": [
    "# Bind a new 'merge' function to identify the chosen labels and create a segment-group\n",
    "def merge_labels(s):\n",
    "    segments = set()\n",
    "    for segment in s.viewer_state.layers[\"proof\"].annotations:\n",
    "        if segment.segments:\n",
    "            segments.update(segment.segments)\n",
    "    with viewer.txn() as txn:\n",
    "        for segment in segments:\n",
    "            txn.layers[\"labels\"].equivalences.union(max(segments), segment)\n",
    "        txn.layers['proof'].annotations = None\n",
    "    with viewer.config_state.txn() as txn:\n",
    "        txn.status_messages['merge'] = 'Merged %s segments' % (len(segments))\n",
    "\n",
    "# viewer.actions.clear()\n",
    "viewer.actions.add('merge-labels', merge_labels)\n",
    "with viewer.config_state.txn() as s:\n",
    "    s.input_event_bindings.viewer['keym'] = 'merge-labels'"
   ]
  },
  {
   "cell_type": "code",
   "execution_count": null,
   "metadata": {},
   "outputs": [],
   "source": []
  },
  {
   "cell_type": "code",
   "execution_count": null,
   "metadata": {},
   "outputs": [],
   "source": []
  }
 ],
 "metadata": {
  "kernelspec": {
   "display_name": "Python 3",
   "language": "python",
   "name": "python3"
  },
  "language_info": {
   "codemirror_mode": {
    "name": "ipython",
    "version": 3
   },
   "file_extension": ".py",
   "mimetype": "text/x-python",
   "name": "python",
   "nbconvert_exporter": "python",
   "pygments_lexer": "ipython3",
   "version": "3.7.3"
  }
 },
 "nbformat": 4,
 "nbformat_minor": 4
}
