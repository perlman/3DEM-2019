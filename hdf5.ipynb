{
 "cells": [
  {
   "cell_type": "markdown",
   "metadata": {},
   "source": [
    "### Local data (HDF5 Example)\n",
    "This notebook walks through using Neuroglancer to view and interact with local data sources."
   ]
  },
  {
   "cell_type": "code",
   "execution_count": 1,
   "metadata": {},
   "outputs": [],
   "source": [
    "import neuroglancer\n",
    "import h5py\n",
    "import requests\n",
    "import numpy as np\n",
    "import itertools\n",
    "from tqdm import tqdm\n",
    "from IPython.display import display, HTML"
   ]
  },
  {
   "cell_type": "code",
   "execution_count": 2,
   "metadata": {},
   "outputs": [
    {
     "name": "stderr",
     "output_type": "stream",
     "text": [
      "168MB [01:52,  1.49MB/s]                         \n"
     ]
    }
   ],
   "source": [
    "# Download one of the CREMI datasets (https://cremi.org/)\n",
    "url = \"https://cremi.org/static/data/sample_A_20160501.hdf\"  # 175M\n",
    "r = requests.get(url, stream=True)\n",
    "with open(\"sampleA.hdf\", \"wb\") as f:\n",
    "    for data in tqdm(r.iter_content(chunk_size=2**20), unit='MB', mininterval=1, total=int(r.headers.get('content-length', 0))//2**20):\n",
    "        f.write(data)"
   ]
  },
  {
   "cell_type": "code",
   "execution_count": 3,
   "metadata": {},
   "outputs": [
    {
     "data": {
      "text/html": [
       "Neuroglancer link: <a href=\"http://127.0.0.1:52418/v/a97d82967fba6ca25675e931e8ac2477418ecac7/\">http://127.0.0.1:52418/v/a97d82967fba6ca25675e931e8ac2477418ecac7/</a>"
      ],
      "text/plain": [
       "<IPython.core.display.HTML object>"
      ]
     },
     "metadata": {},
     "output_type": "display_data"
    }
   ],
   "source": [
    "import os\n",
    "from urllib.parse import urlparse\n",
    "import neuroglancer\n",
    "from IPython.display import display, HTML\n",
    "\n",
    "# Uncomment the following if you intend to run from a remote server:\n",
    "# neuroglancer.set_server_bind_address('0.0.0.0')\n",
    "\n",
    "neuroglancer.set_static_content_source(url=\"https://neuroglancer-demo.appspot.com/python\")\n",
    "viewer = neuroglancer.Viewer()\n",
    "\n",
    "if \"BINDER_URL\" in os.environ: \n",
    "    viewer_url = \"https://{0}{1}proxy/{2}{3}\".format(\n",
    "        \"hub.gke.mybinder.org\",\n",
    "        os.environ[\"JUPYTERHUB_SERVICE_PREFIX\"],\n",
    "        urlparse(viewer.get_viewer_url()).port,\n",
    "        urlparse(viewer.get_viewer_url()).path)\n",
    "else:\n",
    "    viewer_url = viewer.get_viewer_url()\n",
    "\n",
    "display(HTML('Neuroglancer link: <a href=\"{0}\">{0}</a>'.format(viewer_url)))"
   ]
  },
  {
   "cell_type": "code",
   "execution_count": 4,
   "metadata": {},
   "outputs": [],
   "source": [
    "# Open HDF file and create local layers for image data and segmentation\n",
    "h5f = h5py.File(\"sampleA.hdf\", 'r')\n",
    "with viewer.txn() as s:\n",
    "    # Raw data\n",
    "    s.layers['raw'] = neuroglancer.ImageLayer(\n",
    "        source = neuroglancer.LocalVolume(data=h5f['volumes/raw'], voxel_size=(4, 4, 40))\n",
    "    )\n",
    "    # Segmentation data\n",
    "    s.layers['neuron_ids'] = neuroglancer.SegmentationLayer(\n",
    "        source = neuroglancer.LocalVolume(data=h5f['volumes/labels/neuron_ids'], voxel_size=(4, 4, 40))\n",
    "    )"
   ]
  },
  {
   "cell_type": "code",
   "execution_count": 5,
   "metadata": {},
   "outputs": [],
   "source": [
    "# Create and populate layers for pre-, post- and connectors\n",
    "\n",
    "# Unique ID for neuroglancer objects\n",
    "ngid = itertools.count(start=1)\n",
    "\n",
    "(pre_sites, post_sites, connectors) = ([], [], [])\n",
    "locations = []\n",
    "#for location in h5f['annotations/locations']:\n",
    "#    locations.append(np.flip(location))\n",
    "# Result: a map from {id} -> {x,y,z}\n",
    "locations = dict(zip(h5f['annotations/ids'], h5f['annotations/locations']))\n",
    "    \n",
    "for (pre, post) in h5f['annotations/presynaptic_site/partners']:\n",
    "    pre_site = np.flip(locations[pre])\n",
    "    post_site = np.flip(locations[post])\n",
    "    \n",
    "    pre_sites.append(neuroglancer.EllipsoidAnnotation(center=pre_site, radii=(40,40,40), id=next(ngid)))\n",
    "    post_sites.append(neuroglancer.EllipsoidAnnotation(center=post_site, radii=(40,40,40), id=next(ngid)))\n",
    "    connectors.append(neuroglancer.LineAnnotation(point_a=pre_site,point_b=post_site, id=next(ngid)))\n",
    "\n",
    "with viewer.txn() as s:\n",
    "    s.layers['connetors'] = neuroglancer.AnnotationLayer(\n",
    "        voxel_size=(1,1,1),\n",
    "        filter_by_segmentation=False,\n",
    "        annotation_color='#ffff00',\n",
    "        annotations=connectors,\n",
    "    )\n",
    "    s.layers['pre_sites'] = neuroglancer.AnnotationLayer(\n",
    "        voxel_size=(1,1,1),\n",
    "        filter_by_segmentation=False,\n",
    "        annotation_color='#00ff00',\n",
    "        annotations=pre_sites,\n",
    "    )\n",
    "    s.layers['post_sites'] = neuroglancer.AnnotationLayer(\n",
    "        voxel_size=(1,1,1),\n",
    "        filter_by_segmentation=False,\n",
    "        annotation_color='#ff00ff',\n",
    "        annotations=post_sites,\n",
    "    )"
   ]
  },
  {
   "cell_type": "code",
   "execution_count": null,
   "metadata": {},
   "outputs": [],
   "source": []
  }
 ],
 "metadata": {
  "kernelspec": {
   "display_name": "Python 3",
   "language": "python",
   "name": "python3"
  },
  "language_info": {
   "codemirror_mode": {
    "name": "ipython",
    "version": 3
   },
   "file_extension": ".py",
   "mimetype": "text/x-python",
   "name": "python",
   "nbconvert_exporter": "python",
   "pygments_lexer": "ipython3",
   "version": "3.7.3"
  }
 },
 "nbformat": 4,
 "nbformat_minor": 4
}
