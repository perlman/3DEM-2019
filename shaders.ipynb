{
 "cells": [
  {
   "cell_type": "markdown",
   "metadata": {},
   "source": [
    "### Neuroglancer shader examples"
   ]
  },
  {
   "cell_type": "code",
   "execution_count": 1,
   "metadata": {},
   "outputs": [
    {
     "data": {
      "text/html": [
       "Neuroglancer link: <a href=\"http://127.0.0.1:64305/v/b5a3af3f130e6f501c37ad29079597913d7f33ca/\">http://127.0.0.1:64305/v/b5a3af3f130e6f501c37ad29079597913d7f33ca/</a>"
      ],
      "text/plain": [
       "<IPython.core.display.HTML object>"
      ]
     },
     "metadata": {},
     "output_type": "display_data"
    }
   ],
   "source": [
    "# Setup neuroglancer\n",
    "import neuroglancer\n",
    "from IPython.display import display, HTML\n",
    "\n",
    "# Uncomment the following if you intend to run from a remote server:\n",
    "# neuroglancer.set_server_bind_address('0.0.0.0')\n",
    "\n",
    "neuroglancer.set_static_content_source(url=\"https://neuroglancer-demo.appspot.com/python\")\n",
    "viewer = neuroglancer.Viewer()\n",
    "display(HTML('Neuroglancer link: <a href=\"{0}\">{0}</a>'.format(viewer.get_viewer_url())))"
   ]
  },
  {
   "cell_type": "code",
   "execution_count": 2,
   "metadata": {},
   "outputs": [],
   "source": [
    "# Create three local arrays [based on example from neuroglancer/python/example.py]\n",
    "import numpy as np\n",
    "a = np.zeros((200, 200, 200), dtype=np.uint8)\n",
    "b = np.zeros((200, 200, 200), dtype=np.uint8)\n",
    "c = np.zeros((200, 200, 200), dtype=np.uint8)\n",
    "ix, iy, iz = np.meshgrid(* [np.linspace(0, 1, n) for n in a.shape[:]], indexing='ij')\n",
    "a[:, :, :] = np.abs(np.sin(4 * (ix + iy))) * 255\n",
    "b[:, :, :] = np.abs(np.cos(4 * (iy + iz))) * 255\n",
    "c[:, :, :] = np.abs(np.sin(4 * (ix + iz))) * 255"
   ]
  },
  {
   "cell_type": "code",
   "execution_count": 3,
   "metadata": {},
   "outputs": [],
   "source": [
    "# Create new segmentation layers\n",
    "with viewer.txn() as s:\n",
    "        s.layers['a'] = neuroglancer.ImageLayer(\n",
    "            source = neuroglancer.LocalVolume(data=a),\n",
    "            blend = 'additive',\n",
    "            shader='''\n",
    "void main () {\n",
    "  emitRGB(vec3(\n",
    "               toNormalized(getDataValue(0)),\n",
    "               0.0,\n",
    "               0.0)\n",
    "          );\n",
    "}'''\n",
    "        )\n",
    "        s.layers['b'] = neuroglancer.ImageLayer(\n",
    "            source = neuroglancer.LocalVolume(data=b),\n",
    "            blend = 'additive',\n",
    "            shader='''\n",
    "void main () {\n",
    "  emitRGB(vec3(\n",
    "               0.0,\n",
    "               toNormalized(getDataValue(0)),\n",
    "               0.0)\n",
    "          );\n",
    "}'''\n",
    "        )\n",
    "        s.layers['c'] = neuroglancer.ImageLayer(\n",
    "            source = neuroglancer.LocalVolume(data=c),\n",
    "            blend = 'additive',\n",
    "            shader='''\n",
    "void main () {\n",
    "  emitRGB(vec3(\n",
    "               0.0,\n",
    "               0.0,\n",
    "               toNormalized(getDataValue(0)))\n",
    "          );\n",
    "}'''\n",
    "        )"
   ]
  },
  {
   "cell_type": "code",
   "execution_count": null,
   "metadata": {},
   "outputs": [],
   "source": []
  }
 ],
 "metadata": {
  "kernelspec": {
   "display_name": "Python 3",
   "language": "python",
   "name": "python3"
  },
  "language_info": {
   "codemirror_mode": {
    "name": "ipython",
    "version": 3
   },
   "file_extension": ".py",
   "mimetype": "text/x-python",
   "name": "python",
   "nbconvert_exporter": "python",
   "pygments_lexer": "ipython3",
   "version": "3.7.3"
  }
 },
 "nbformat": 4,
 "nbformat_minor": 2
}
