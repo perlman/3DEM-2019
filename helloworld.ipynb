{
 "cells": [
  {
   "cell_type": "markdown",
   "metadata": {},
   "source": [
    "### Hello world\n",
    "A basic notebook to test Neuroglancer: create a viewer, populate with layers, set the current location, and manipulate the segmentation."
   ]
  },
  {
   "cell_type": "code",
   "execution_count": 1,
   "metadata": {},
   "outputs": [
    {
     "data": {
      "text/html": [
       "Neuroglancer link: <a href=\"http://127.0.0.1:52948/v/e39b95db0feec6d0fb18aabefc39f63f7c0d036d/\">http://127.0.0.1:52948/v/e39b95db0feec6d0fb18aabefc39f63f7c0d036d/</a>"
      ],
      "text/plain": [
       "<IPython.core.display.HTML object>"
      ]
     },
     "metadata": {},
     "output_type": "display_data"
    }
   ],
   "source": [
    "import os\n",
    "from urllib.parse import urlparse\n",
    "import neuroglancer\n",
    "from IPython.display import display, HTML\n",
    "\n",
    "# Uncomment the following if you intend to run from a remote server:\n",
    "# neuroglancer.set_server_bind_address('0.0.0.0')\n",
    "\n",
    "neuroglancer.set_static_content_source(url=\"https://neuroglancer-demo.appspot.com/python\")\n",
    "viewer = neuroglancer.Viewer()\n",
    "\n",
    "if \"BINDER_URL\" in os.environ: \n",
    "    viewer_url = \"https://{0}{1}proxy/{2}{3}\".format(\n",
    "        \"hub.gke.mybinder.org\",\n",
    "        os.environ[\"JUPYTERHUB_SERVICE_PREFIX\"],\n",
    "        urlparse(viewer.get_viewer_url()).port,\n",
    "        urlparse(viewer.get_viewer_url()).path)\n",
    "else:\n",
    "    viewer_url = viewer.get_viewer_url()\n",
    "\n",
    "display(HTML('Neuroglancer link: <a href=\"{0}\">{0}</a>'.format(viewer_url)))"
   ]
  },
  {
   "cell_type": "code",
   "execution_count": 2,
   "metadata": {},
   "outputs": [
    {
     "name": "stdout",
     "output_type": "stream",
     "text": [
      "Current layers: [ManagedLayer(\"fafb_v14\",{\"type\": \"image\", \"source\": \"precomputed://gs://neuroglancer-fafb-data/fafb_v14/fafb_v14_orig_sharded\", \"name\": \"fafb_v14\"}), ManagedLayer(\"li-ffn1-20190521\",{\"type\": \"segmentation\", \"source\": \"precomputed://gs://fafb-ffn1-20190521/segmentation\", \"name\": \"li-ffn1-20190521\"})]\n"
     ]
    }
   ],
   "source": [
    "# Add layers with the FAFB data and Peter Li's segmentation\n",
    "with viewer.txn() as s:\n",
    "    # EM layer\n",
    "    s.layers['fafb_v14'] = neuroglancer.ImageLayer(\n",
    "        source='precomputed://gs://neuroglancer-fafb-data/fafb_v14/fafb_v14_orig_sharded',\n",
    "    )\n",
    "    # Segmentation layer\n",
    "    s.layers['li-ffn1-20190521'] = neuroglancer.SegmentationLayer(\n",
    "        source='precomputed://gs://fafb-ffn1-20190521/segmentation',\n",
    "    )\n",
    "print(\"Current layers: %s\" % (viewer.state.layers))"
   ]
  },
  {
   "cell_type": "code",
   "execution_count": 3,
   "metadata": {},
   "outputs": [],
   "source": [
    "# Set the center point\n",
    "with viewer.txn() as s:\n",
    "    s.perspectiveZoom = 20\n",
    "    s.position.voxelCoordinates=[157900, 43300, 3530]"
   ]
  },
  {
   "cell_type": "code",
   "execution_count": 4,
   "metadata": {},
   "outputs": [],
   "source": [
    "# Select a few segmentations\n",
    "with viewer.txn() as s:\n",
    "    s.layers['li-ffn1-20190521'].segments = [\"1750122103\", \"1942935869\", \"2007624163\", \"2007627362\", \"2263242534\", \"2519485760\", \"2519485774\", \"2583546594\"]"
   ]
  },
  {
   "cell_type": "code",
   "execution_count": null,
   "metadata": {},
   "outputs": [],
   "source": []
  }
 ],
 "metadata": {
  "kernelspec": {
   "display_name": "Python 3",
   "language": "python",
   "name": "python3"
  },
  "language_info": {
   "codemirror_mode": {
    "name": "ipython",
    "version": 3
   },
   "file_extension": ".py",
   "mimetype": "text/x-python",
   "name": "python",
   "nbconvert_exporter": "python",
   "pygments_lexer": "ipython3",
   "version": "3.7.3"
  }
 },
 "nbformat": 4,
 "nbformat_minor": 4
}
